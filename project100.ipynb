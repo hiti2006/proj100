{
  "nbformat": 4,
  "nbformat_minor": 0,
  "metadata": {
    "colab": {
      "provenance": [],
      "authorship_tag": "ABX9TyN2+RZPBq8Sz3/1VLZ1S77t",
      "include_colab_link": true
    },
    "kernelspec": {
      "name": "python3",
      "display_name": "Python 3"
    },
    "language_info": {
      "name": "python"
    }
  },
  "cells": [
    {
      "cell_type": "markdown",
      "metadata": {
        "id": "view-in-github",
        "colab_type": "text"
      },
      "source": [
        "<a href=\"https://colab.research.google.com/github/hiti2006/proj100/blob/main/project100.ipynb\" target=\"_parent\"><img src=\"https://colab.research.google.com/assets/colab-badge.svg\" alt=\"Open In Colab\"/></a>"
      ]
    },
    {
      "cell_type": "code",
      "execution_count": 23,
      "metadata": {
        "id": "MJjZNuoQiVAx"
      },
      "outputs": [],
      "source": [
        "class MovieReview:\n",
        "\n",
        "  def __init__(self,movie,story,actors,music):\n",
        "    self.movie_name=movie\n",
        "\n",
        "    #ratings\n",
        "    self.story_rating= story\n",
        "    self.actor_rating= actors\n",
        "    self.music_rating= music\n",
        "\n",
        "    self.avg=int((self.story_rating+self.actor_rating+self.music_rating)/3)\n",
        "\n",
        "    self.myrating={\n",
        "        \"Movie name\":self.movie_name,\n",
        "        \"Story rating\":self.story_rating,\n",
        "        \"Actor Rating\":self.actor_rating,\n",
        "        \"Music Rating\":self.music_rating,\n",
        "        \"Avg Rating\":self.avg\n",
        "    }\n",
        "\n",
        "  def add_movie_ratings(self, movie_list):\n",
        "        movie_list.append(self.myrating)\n",
        "  \n",
        "  \n",
        "  def avg_star_ratings(self, movie_list):\n",
        "    for movie in movie_list:\n",
        "      if(movie[\"Avg Rating\"] == 1 ):\n",
        "        print(\"Thanks for the response, You rated Movie with   *\")\n",
        "        print(movie)\n",
        "\n",
        "      elif(movie[\"Avg Rating\"] == 2 ):\n",
        "        print(\"Thanks for the response, You rated Movie with   * * \")\n",
        "        print(movie)\n",
        "\n",
        "      elif(movie[\"Avg Rating\"] == 3 ):\n",
        "        print(\"Thanks for the response, You rated Movie with   * * *\")\n",
        "        print(movie)\n",
        "\n",
        "      elif(movie[\"Avg Rating\"] == 4 ):\n",
        "        print(\"Thanks for the response, You rated Movie with   * * * *\")\n",
        "        print(movie)\n",
        "\n",
        "      if(movie[\"Avg Rating\"] == 5 ):\n",
        "        print(\"Thanks for the response, You rated Movie with   * * * * *\")\n",
        "        print(movie)\n",
        "      \n",
        "        \n",
        "    \n"
      ]
    },
    {
      "cell_type": "code",
      "source": [
        "moviereviews = []"
      ],
      "metadata": {
        "id": "Su3kismUky9d"
      },
      "execution_count": 24,
      "outputs": []
    },
    {
      "cell_type": "code",
      "source": [
        "review1 = MovieReview (\"Good Life\", 1, 1, 3)\n",
        "review1.add_movie_ratings(moviereviews)\n",
        "review1.avg_star_ratings(moviereviews)"
      ],
      "metadata": {
        "colab": {
          "base_uri": "https://localhost:8080/"
        },
        "id": "aRewbrjmk0Q8",
        "outputId": "5aae9dcb-eb41-4f85-c3fd-f3514394156e"
      },
      "execution_count": 25,
      "outputs": [
        {
          "output_type": "stream",
          "name": "stdout",
          "text": [
            "Thanks for the response, You rated Movie with   *\n",
            "{'Movie name': 'Good Life', 'Story rating': 1, 'Actor Rating': 1, 'Music Rating': 3, 'Avg Rating': 1}\n"
          ]
        }
      ]
    },
    {
      "cell_type": "code",
      "source": [
        "review2 = MovieReview(\"Beautiful Sound\", 5, 5, 5)\n",
        "review2.add_movie_ratings(moviereviews)\n",
        "review2.avg_star_ratings(moviereviews)"
      ],
      "metadata": {
        "colab": {
          "base_uri": "https://localhost:8080/"
        },
        "id": "fWu3v50TmDLo",
        "outputId": "c0948f78-d917-445f-cbef-c613a383a96a"
      },
      "execution_count": 26,
      "outputs": [
        {
          "output_type": "stream",
          "name": "stdout",
          "text": [
            "Thanks for the response, You rated Movie with   *\n",
            "{'Movie name': 'Good Life', 'Story rating': 1, 'Actor Rating': 1, 'Music Rating': 3, 'Avg Rating': 1}\n",
            "Thanks for the response, You rated Movie with   * * * * *\n",
            "{'Movie name': 'Beautiful Sound', 'Story rating': 5, 'Actor Rating': 5, 'Music Rating': 5, 'Avg Rating': 5}\n"
          ]
        }
      ]
    },
    {
      "cell_type": "code",
      "source": [
        "review3 = MovieReview(\"Smiley\", 1, 1, 3)\n",
        "review3.add_movie_ratings(moviereviews)\n",
        "review3.avg_star_ratings(moviereviews)"
      ],
      "metadata": {
        "colab": {
          "base_uri": "https://localhost:8080/"
        },
        "id": "WwsfJGJKmKpV",
        "outputId": "f6f30cec-6003-495b-dc4c-2ac0ed3e9abc"
      },
      "execution_count": 27,
      "outputs": [
        {
          "output_type": "stream",
          "name": "stdout",
          "text": [
            "Thanks for the response, You rated Movie with   *\n",
            "{'Movie name': 'Good Life', 'Story rating': 1, 'Actor Rating': 1, 'Music Rating': 3, 'Avg Rating': 1}\n",
            "Thanks for the response, You rated Movie with   * * * * *\n",
            "{'Movie name': 'Beautiful Sound', 'Story rating': 5, 'Actor Rating': 5, 'Music Rating': 5, 'Avg Rating': 5}\n",
            "Thanks for the response, You rated Movie with   *\n",
            "{'Movie name': 'Smiley', 'Story rating': 1, 'Actor Rating': 1, 'Music Rating': 3, 'Avg Rating': 1}\n"
          ]
        }
      ]
    }
  ]
}